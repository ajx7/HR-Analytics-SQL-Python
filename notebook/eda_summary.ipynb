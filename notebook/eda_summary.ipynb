{
 "cells": [
  {
   "cell_type": "markdown",
   "id": "94c5515c-36f1-40d1-acdf-bfbeddb6e49b",
   "metadata": {},
   "source": [
    "# HR Analytics: EDA Summary\n",
    "\n",
    "**Objective:** Make a concise, insightful, and visually appealing summary. Combine key insights from univariate and bivariate analysis into one polished section.\n",
    "\n",
    "> ***Note:*** This notebook is a condensed version of hr_analysis.ipynb; please refer to that notebook for a detailed EDA exploration.\n",
    "\n",
    "### Notebook Sections:\n",
    "\t1. Attrition Overview\n",
    "\t2. Department & Job Role Analysis\n",
    "\t3. Overtime Impact\n",
    "\t4. Age & Tenure Analysis\n",
    "\t5. Monthly Income & Compensation\n",
    "\t6. Gender & Marital Status"
   ]
  },
  {
   "cell_type": "code",
   "execution_count": null,
   "id": "02d3a919-9f53-4f64-b245-5e05ed9cb9d0",
   "metadata": {},
   "outputs": [],
   "source": [
    "# Setup & Imports\n",
    "\n",
    "import pandas as pd\n",
    "import numpy as np\n",
    "import matplotlib.pyplot as plt\n",
    "import seaborn as sns\n",
    "\n",
    "plt.style.use(\"seaborn-v0_8\")\n",
    "plt.rcParams[\"figure.figsize\"] = (10, 6)\n",
    "\n",
    "from sqlalchemy import create_engine\n",
    "\n",
    "from dotenv import load_dotenv\n",
    "import os\n",
    "\n",
    "print(\"Libraries loaded successfully\")"
   ]
  },
  {
   "cell_type": "code",
   "execution_count": null,
   "id": "dc1e4bef-af3c-4df7-a22f-ce5f9516b5a4",
   "metadata": {},
   "outputs": [],
   "source": [
    "# Load Data from PostgreSQL\n",
    "\n",
    "load_dotenv()  # loads variables from .env\n",
    "\n",
    "db_host = os.getenv(\"PG_HOST\")\n",
    "db_port = os.getenv(\"PG_PORT\")\n",
    "db_name = os.getenv(\"PG_DB\")\n",
    "db_user = os.getenv(\"PG_USER\")\n",
    "db_pass = os.getenv(\"PG_PASS\")\n",
    "\n",
    "conn_str = f\"postgresql://{db_user}:{db_pass}@{db_host}:{db_port}/{db_name}\"\n",
    "\n",
    "engine = create_engine(conn_str)\n",
    "df = pd.read_sql(\"SELECT * FROM hr_data;\", engine)\n",
    "\n",
    "print(\"Data loaded successfully\")\n",
    "print(\"Shape of dataset:\", df.shape)\n",
    "df.head()"
   ]
  },
  {
   "cell_type": "markdown",
   "id": "ad83739a-fbfa-421b-a84c-9ac51b830e75",
   "metadata": {},
   "source": [
    "### 1. Attrition Overview"
   ]
  },
  {
   "cell_type": "code",
   "execution_count": null,
   "id": "829ea9b1-2d8d-42cc-b21b-ba2639759a76",
   "metadata": {},
   "outputs": [],
   "source": [
    "# Attrition counts and percentage\n",
    "attrition_summary = df['attrition'].value_counts().reset_index()\n",
    "attrition_summary.columns = ['Attrition', 'Count']\n",
    "attrition_summary['Percentage'] = round((attrition_summary['Count']/len(df))*100,2)\n",
    "attrition_summary"
   ]
  },
  {
   "cell_type": "markdown",
   "id": "3cb61ae7-2396-4842-8286-6ab4fb0aec80",
   "metadata": {},
   "source": [
    "**Interpretation (Markdown):**\n",
    "- Overall attrition rate is 16%.\n",
    "- Majority of employees stayed; important for retention focus.\n",
    "\n",
    "**Visualisation:**"
   ]
  },
  {
   "cell_type": "code",
   "execution_count": null,
   "id": "16a2880d-cc30-4754-b79e-cb02c498fb35",
   "metadata": {},
   "outputs": [],
   "source": [
    "# Set style\n",
    "sns.reset_defaults()\n",
    "sns.set(style=\"whitegrid\", palette=\"Set2\")\n",
    "plt.figure(facecolor='white')\n",
    "\n",
    "plt.figure(figsize=(5,4))\n",
    "sns.countplot(x='attrition', hue=\"attrition\", data=df, palette='Set2')\n",
    "plt.title(\"Overall Attrition Distribution\")\n",
    "plt.savefig(\"figures/eda_summary/attrition.png\", bbox_inches='tight')\n",
    "plt.show()"
   ]
  },
  {
   "cell_type": "markdown",
   "id": "0af58595-352c-4bd9-81b5-80e6eb5226b9",
   "metadata": {},
   "source": [
    "### 2. Department & Job Role Analysis¶"
   ]
  },
  {
   "cell_type": "code",
   "execution_count": null,
   "id": "1d2abca8-a299-4ef8-9c9e-9d8e5d6e75fe",
   "metadata": {},
   "outputs": [],
   "source": [
    "# Department attrition percentages\n",
    "dept_attrition = pd.crosstab(df['department'], df['attrition'], normalize='index')*100\n",
    "dept_attrition"
   ]
  },
  {
   "cell_type": "markdown",
   "id": "1f2f7351-9950-416e-9cb9-9e5251ab6864",
   "metadata": {},
   "source": [
    "**Interpretation:**\n",
    "- Sales has highest proportional attrition (~ 20%)\n",
    "- R&D has largest employee base but lower attrition (~ 14%)\n",
    "- HR is small but shows ~19% attrition\n",
    "\n",
    "**Visualisation:**"
   ]
  },
  {
   "cell_type": "code",
   "execution_count": null,
   "id": "36843d4d-3067-4c39-b92f-9dfd525035f1",
   "metadata": {},
   "outputs": [],
   "source": [
    "plt.figure(figsize=(6,4))\n",
    "sns.countplot(x=\"department\", hue=\"attrition\", data=df)\n",
    "plt.title(\"Attrition across Departments\")\n",
    "plt.savefig(\"figures/eda_summary/dept.png\", bbox_inches='tight')\n",
    "plt.show()"
   ]
  },
  {
   "cell_type": "code",
   "execution_count": null,
   "id": "9e5c5903-7e9e-4ee4-a823-eb82d63769ff",
   "metadata": {},
   "outputs": [],
   "source": [
    "# Job Role attrition percentages\n",
    "jobrole_attrition = pd.crosstab(df['jobrole'], df['attrition'], normalize='index')*100\n",
    "jobrole_attrition"
   ]
  },
  {
   "cell_type": "markdown",
   "id": "df0b5f4c-36ff-40e9-86c3-0e67f33c1c01",
   "metadata": {},
   "source": [
    "**Interpretation:**\n",
    "- Sales Representatives, Laboratory Technicians and Human Resources have the highest attrition rates (~24–40%).\n",
    "- Senior/Managerial roles have very low attrition (~2–7%).\n",
    "- Entry-level and field roles are more likely to leave.\n",
    "\n",
    "**Visualisation:**"
   ]
  },
  {
   "cell_type": "code",
   "execution_count": null,
   "id": "7f7e1df8-ca2e-4790-8989-1bf1f06e7992",
   "metadata": {},
   "outputs": [],
   "source": [
    "plt.figure(figsize=(10,5))\n",
    "sns.countplot(x='jobrole', hue='attrition', data=df, order=df['jobrole'].value_counts().index)\n",
    "plt.title(\"Attrition by Job Role\")\n",
    "plt.xticks(rotation=60)\n",
    "plt.savefig(\"figures/eda_summary/jobrole.png\", bbox_inches='tight')\n",
    "plt.show()"
   ]
  },
  {
   "cell_type": "markdown",
   "id": "8118df55-7727-4222-b03d-43b27a2d59b9",
   "metadata": {},
   "source": [
    "### 3. Overtime Impact"
   ]
  },
  {
   "cell_type": "code",
   "execution_count": null,
   "id": "a299794b-51b6-4f73-8e0c-929d2f2da3db",
   "metadata": {},
   "outputs": [],
   "source": [
    "overtime_attrition = pd.crosstab(df['overtime'], df['attrition'], normalize='index')*100\n",
    "overtime_attrition"
   ]
  },
  {
   "cell_type": "markdown",
   "id": "cb0a7dad-56c6-43db-9c20-bdff019bd043",
   "metadata": {},
   "source": [
    "**Interpretation:**\n",
    "- Employees working overtime leave at ~30% vs ~10% for non-overtime.\n",
    "- Overtime is a key retention factor.\n",
    "\n",
    "**Visualisation:**"
   ]
  },
  {
   "cell_type": "code",
   "execution_count": null,
   "id": "5cce72c5-042d-40c7-8625-c1b58759e190",
   "metadata": {},
   "outputs": [],
   "source": [
    "sns.countplot(x='overtime', hue='attrition', data=df)\n",
    "plt.title(\"Attrition vs Overtime\")\n",
    "plt.savefig(\"figures/eda_summary/overtime_impact.png\", bbox_inches='tight')\n",
    "plt.show()"
   ]
  },
  {
   "cell_type": "markdown",
   "id": "07679a89-9438-4ba0-b964-fc163dd83db4",
   "metadata": {},
   "source": [
    "### 4. Age & Tenure Analysis"
   ]
  },
  {
   "cell_type": "code",
   "execution_count": null,
   "id": "cd9c50f3-6cd8-4646-b2bb-badb4a7a63eb",
   "metadata": {},
   "outputs": [],
   "source": [
    "# Create Age group and tenure buckets\n",
    "df['age_group'] = pd.cut(df['age'], bins=[0,29,45,100], labels=['<30','30-45','45+'])\n",
    "df['tenure_bucket'] = pd.cut(df['yearsatcompany'], bins=[-1,0,2,5,10,100], labels=['0','1-2','3-5','6-10','10+'])\n",
    "\n",
    "age_attrition = pd.crosstab(df['age_group'], df['attrition'], normalize='index')*100\n",
    "tenure_attrition = pd.crosstab(df['tenure_bucket'], df['attrition'], normalize='index')*100\n",
    "print(age_attrition)\n",
    "print(tenure_attrition)"
   ]
  },
  {
   "cell_type": "markdown",
   "id": "73e3fdbe-b639-4a80-b3d2-b479090bb007",
   "metadata": {},
   "source": [
    "**Interpretation:**\n",
    "- <30 years: highest attrition (~27–30%)\n",
    "- 30–45 years: attrition drops (~12–14%)\n",
    "- 0–2 years tenure: ~29–36% attrition\n",
    "- Employees with 10+ years: least likely to leave (~8%)\n",
    "\n",
    "**Visualisation:**"
   ]
  },
  {
   "cell_type": "code",
   "execution_count": null,
   "id": "dcd8b460-36dd-45f3-8f27-7fd8a5e07e9e",
   "metadata": {},
   "outputs": [],
   "source": [
    "fig, axes = plt.subplots(1,2, figsize=(12,5))\n",
    "sns.countplot(x='age_group', hue='attrition', data=df, ax=axes[0])\n",
    "axes[0].set_title(\"Attrition by Age Group\")\n",
    "sns.countplot(x='tenure_bucket', hue='attrition', data=df, ax=axes[1])\n",
    "axes[1].set_title(\"Attrition by Tenure Buckets\")\n",
    "plt.savefig(\"figures/eda_summary/age_tenure_analysis.png\", bbox_inches='tight')\n",
    "plt.show()"
   ]
  },
  {
   "cell_type": "markdown",
   "id": "ff488018-c78b-4f24-864e-ccef8382510f",
   "metadata": {},
   "source": [
    "### 5. Monthly Income & Compensation"
   ]
  },
  {
   "cell_type": "code",
   "execution_count": null,
   "id": "dae19d29-b044-409a-bd58-23d7f52174c2",
   "metadata": {},
   "outputs": [],
   "source": [
    "income_attrition = pd.crosstab(df['jobrole'], df['attrition'], normalize='index')*100\n",
    "income_attrition"
   ]
  },
  {
   "cell_type": "code",
   "execution_count": null,
   "id": "85a3ffaf-0755-468d-9f8f-1d7442186f61",
   "metadata": {},
   "outputs": [],
   "source": [
    "plt.figure(figsize=(6,4))\n",
    "sns.boxplot(x='attrition', y='monthlyincome', data=df)\n",
    "plt.title(\"Monthly Income vs Attrition\")\n",
    "plt.savefig(\"figures/eda_summary/monthlyincome_vs_attrition.png\", bbox_inches='tight')\n",
    "plt.show()"
   ]
  },
  {
   "cell_type": "markdown",
   "id": "41d488e7-bbff-42b2-a5c0-aee37de16661",
   "metadata": {},
   "source": [
    "**Interpretation:**\n",
    "- Employees who left earn lower median monthly income (`~$4.8k`) than those who stayed (`~$6.8k`).\n",
    "- Compensation is likely a retention factor."
   ]
  },
  {
   "cell_type": "markdown",
   "id": "6db9ba82-9817-4304-b971-ff984663d2d0",
   "metadata": {},
   "source": [
    "### 6. Gender & Marital Status"
   ]
  },
  {
   "cell_type": "code",
   "execution_count": null,
   "id": "d03d408f-981f-403b-8e0c-d63a5fb322ff",
   "metadata": {},
   "outputs": [],
   "source": [
    "gender_attrition = pd.crosstab(df['gender'], df['attrition'], normalize='index')*100\n",
    "maritalstatus_attrition = pd.crosstab(df['maritalstatus'], df['attrition'], normalize='index')*100\n",
    "print(gender_attrition)\n",
    "print(maritalstatus_attrition)"
   ]
  },
  {
   "cell_type": "code",
   "execution_count": null,
   "id": "7c060cba-1b5d-4935-acc2-7cb01ba06508",
   "metadata": {},
   "outputs": [],
   "source": [
    "fig, axes = plt.subplots(1,2, figsize=(12,5))\n",
    "sns.countplot(x='gender', hue='attrition', data=df, ax=axes[0])\n",
    "axes[0].set_title(\"Attrition by Gender\")\n",
    "sns.countplot(x='maritalstatus', hue='attrition', data=df, ax=axes[1])\n",
    "axes[1].set_title(\"Attrition by Marital Status\")\n",
    "plt.savefig(\"figures/eda_summary/attrition_gender_maritalstatus.png\", bbox_inches='tight')\n",
    "plt.show()"
   ]
  },
  {
   "cell_type": "markdown",
   "id": "52d58c86-5567-4321-aac8-261d72eabf99",
   "metadata": {},
   "source": [
    "**Interpretation:**\n",
    "- Gender has minor impact on attrition.\n",
    "- Single employees leave more frequently (`~19%`) than married (`~14%`) or divorced (`~12%`)."
   ]
  },
  {
   "cell_type": "markdown",
   "id": "275af8f1-5181-4a3d-ba1a-63effd10b394",
   "metadata": {},
   "source": [
    "### Summary\n",
    "- **Attrition Distribution:** Majority of employees (`84%`) stayed, while `16%` left.\n",
    "- **Department:**\n",
    "  * Sales has highest proportional attrition (`~20%`)\n",
    "  *  R&D has largest employee base but lower attrition (`~14%`)\n",
    "  *  HR is small but shows `~19%` attrition.\n",
    "- **Overtime:** Employees working overtime leave at `~30%` vs `~10%` for non-overtime; making overtime a key retention factor.\n",
    "- **Job Role:**\n",
    "  * Sales Representatives, Laboratory Technicians and Human Resources have the highest attrition rates (~24–40%).\n",
    "  * Senior/Managerial roles have very low attrition (`~2–7%`).\n",
    "- **Age:** Employees with age less than 30 years face highest attrition (`~27–30%`). While, attrition rate drops (`~12–14%`) for 30–45 years age bracket.\n",
    "- **Tenure:** Employees with 0 to 2 years of tenure have highest attrition rate (`~29–36%`), while employees with 10+ years at company are least likely to leave (`~8%`).\n",
    "- **Monthly Income & Compensation:** Employees who left earn lower median monthly income (`~$4.8k`) than those who stayed (`~$6.8k`). Compensation is likely a retention factor.\n",
    "- **Gender & Marital Status:**\n",
    "  * Gender has minor impact on attrition.\n",
    "  * Single employees leave more frequently compared to married or divorced employees."
   ]
  }
 ],
 "metadata": {
  "kernelspec": {
   "display_name": "Python [conda env:base] *",
   "language": "python",
   "name": "conda-base-py"
  },
  "language_info": {
   "codemirror_mode": {
    "name": "ipython",
    "version": 3
   },
   "file_extension": ".py",
   "mimetype": "text/x-python",
   "name": "python",
   "nbconvert_exporter": "python",
   "pygments_lexer": "ipython3",
   "version": "3.12.3"
  }
 },
 "nbformat": 4,
 "nbformat_minor": 5
}
